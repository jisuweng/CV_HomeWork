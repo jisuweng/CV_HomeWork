{
 "cells": [
  {
   "cell_type": "code",
   "execution_count": 1,
   "id": "2fa028b2-433c-44b8-b14b-6edd0be572d8",
   "metadata": {},
   "outputs": [
    {
     "ename": "error",
     "evalue": "OpenCV(4.10.0) D:\\a\\opencv-python\\opencv-python\\opencv\\modules\\highgui\\src\\window_w32.cpp:2561: error: (-27:Null pointer) NULL window: 'Trackbars' in function 'cvGetTrackbarPos'\n",
     "output_type": "error",
     "traceback": [
      "\u001b[1;31m---------------------------------------------------------------------------\u001b[0m",
      "\u001b[1;31merror\u001b[0m                                     Traceback (most recent call last)",
      "Cell \u001b[1;32mIn[1], line 19\u001b[0m\n\u001b[0;32m     16\u001b[0m hsv \u001b[38;5;241m=\u001b[39m cv2\u001b[38;5;241m.\u001b[39mcvtColor(image, cv2\u001b[38;5;241m.\u001b[39mCOLOR_BGR2HSV)\n\u001b[0;32m     18\u001b[0m \u001b[38;5;28;01mwhile\u001b[39;00m \u001b[38;5;28;01mTrue\u001b[39;00m:\n\u001b[1;32m---> 19\u001b[0m     h_min \u001b[38;5;241m=\u001b[39m \u001b[43mcv2\u001b[49m\u001b[38;5;241;43m.\u001b[39;49m\u001b[43mgetTrackbarPos\u001b[49m\u001b[43m(\u001b[49m\u001b[38;5;124;43m\"\u001b[39;49m\u001b[38;5;124;43mH_min\u001b[39;49m\u001b[38;5;124;43m\"\u001b[39;49m\u001b[43m,\u001b[49m\u001b[43m \u001b[49m\u001b[38;5;124;43m\"\u001b[39;49m\u001b[38;5;124;43mTrackbars\u001b[39;49m\u001b[38;5;124;43m\"\u001b[39;49m\u001b[43m)\u001b[49m\n\u001b[0;32m     20\u001b[0m     h_max \u001b[38;5;241m=\u001b[39m cv2\u001b[38;5;241m.\u001b[39mgetTrackbarPos(\u001b[38;5;124m\"\u001b[39m\u001b[38;5;124mH_max\u001b[39m\u001b[38;5;124m\"\u001b[39m, \u001b[38;5;124m\"\u001b[39m\u001b[38;5;124mTrackbars\u001b[39m\u001b[38;5;124m\"\u001b[39m)\n\u001b[0;32m     21\u001b[0m     s_min \u001b[38;5;241m=\u001b[39m cv2\u001b[38;5;241m.\u001b[39mgetTrackbarPos(\u001b[38;5;124m\"\u001b[39m\u001b[38;5;124mS_min\u001b[39m\u001b[38;5;124m\"\u001b[39m, \u001b[38;5;124m\"\u001b[39m\u001b[38;5;124mTrackbars\u001b[39m\u001b[38;5;124m\"\u001b[39m)\n",
      "\u001b[1;31merror\u001b[0m: OpenCV(4.10.0) D:\\a\\opencv-python\\opencv-python\\opencv\\modules\\highgui\\src\\window_w32.cpp:2561: error: (-27:Null pointer) NULL window: 'Trackbars' in function 'cvGetTrackbarPos'\n"
     ]
    }
   ],
   "source": [
    "import cv2\n",
    "\n",
    "def nothing(x):\n",
    "    pass\n",
    "\n",
    "# 创建一个窗口\n",
    "cv2.namedWindow(\"Trackbars\")\n",
    "cv2.createTrackbar(\"H_min\", \"Trackbars\", 0, 180, nothing)\n",
    "cv2.createTrackbar(\"H_max\", \"Trackbars\", 0, 180, nothing)\n",
    "cv2.createTrackbar(\"S_min\", \"Trackbars\", 0, 255, nothing)\n",
    "cv2.createTrackbar(\"S_max\", \"Trackbars\", 0, 255, nothing)\n",
    "cv2.createTrackbar(\"V_min\", \"Trackbars\", 0, 255, nothing)\n",
    "cv2.createTrackbar(\"V_max\", \"Trackbars\", 0, 255, nothing)\n",
    "\n",
    "image = cv2.imread(\"image.png\")\n",
    "hsv = cv2.cvtColor(image, cv2.COLOR_BGR2HSV)\n",
    "\n",
    "while True:\n",
    "    h_min = cv2.getTrackbarPos(\"H_min\", \"Trackbars\")\n",
    "    h_max = cv2.getTrackbarPos(\"H_max\", \"Trackbars\")\n",
    "    s_min = cv2.getTrackbarPos(\"S_min\", \"Trackbars\")\n",
    "    s_max = cv2.getTrackbarPos(\"S_max\", \"Trackbars\")\n",
    "    v_min = cv2.getTrackbarPos(\"V_min\", \"Trackbars\")\n",
    "    v_max = cv2.getTrackbarPos(\"V_max\", \"Trackbars\")\n",
    "\n",
    "    # 创建 HSV 的 mask\n",
    "    lower = (h_min, s_min, v_min)\n",
    "    upper = (h_max, s_max, v_max)\n",
    "    mask = cv2.inRange(hsv, lower, upper)\n",
    "\n",
    "    cv2.imshow(\"Original Image\", image)\n",
    "    cv2.imshow(\"Mask\", mask)\n",
    "\n",
    "    key = cv2.waitKey(1)\n",
    "    if key == 27:  # 按 ESC 键退出\n",
    "        break\n",
    "\n",
    "cv2.destroyAllWindows()\n"
   ]
  },
  {
   "cell_type": "code",
   "execution_count": null,
   "id": "5a2e28d7-e834-4441-948f-98783bae1e9c",
   "metadata": {},
   "outputs": [],
   "source": []
  }
 ],
 "metadata": {
  "kernelspec": {
   "display_name": "Python 3 (ipykernel)",
   "language": "python",
   "name": "python3"
  },
  "language_info": {
   "codemirror_mode": {
    "name": "ipython",
    "version": 3
   },
   "file_extension": ".py",
   "mimetype": "text/x-python",
   "name": "python",
   "nbconvert_exporter": "python",
   "pygments_lexer": "ipython3",
   "version": "3.8.20"
  }
 },
 "nbformat": 4,
 "nbformat_minor": 5
}
